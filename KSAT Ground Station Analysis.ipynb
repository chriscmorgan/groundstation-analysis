{
 "cells": [
  {
   "cell_type": "markdown",
   "metadata": {},
   "source": [
    "# K-SAT Lite Groundstation Analysis"
   ]
  },
  {
   "cell_type": "markdown",
   "metadata": {},
   "source": [
    "## Summary\n",
    "Kongsberg Satellite Services (KSAT) is a commercial ground station operation with ground stations located near both poles as well as a number of lower latitude stations. KSAT offers a service dedicated to smallsat operations, KSAT Lite.\n",
    "\n",
    "KSAT lite station locations:\n",
    "![KSAT Locations](Images/KSAT_locations.PNG)"
   ]
  },
  {
   "cell_type": "markdown",
   "metadata": {},
   "source": [
    "## Frequency Allocation\n",
    "K-Sat is listed to receive between the 2200-2300 MHz and transmit between 2025-2120 MHz ranges which are located in the S-band. The S-band is a designation by the Institute of Electrical and Electronics Engineers (IEEE) for a part of the microwave band of the electromagnetic spectrum covering frequencies from 2000 to 4000 MHz.\n",
    "\n",
    "Within the KSAT S-band ranges, the ITU has allocated frequency bands to ‘fixed’, ‘mobile’, ‘space operation’, ‘earth exploration’, and ‘space research’ services. All following definitions are taken from the ITU regulations.\n",
    "\n",
    "\n",
    "### Fixed\n",
    "A fixed service is defined as ‘a radiocommunication service between specified fixed points.’\n",
    "\n",
    "A fixed satellite service is defined as : ‘A radiocommunication service between earth stations at given positions, when one or more satellites are used; the given position may be a specified fixed point or any fixed point within specified areas; in some cases this service includes satellite-to-satellite links, which may also be operated in the inter-satellite service; the fixed-satellite service may also include feeder links for other space radiocommunication services.’\n",
    "\n",
    "These definitions denote a service with fixed start and end points. By Skyhopper’s nature, it will not remain in a fixed position. Since Skyhopper will act as the origin and destination of information, the Skyhopper network will not qualify as a ‘fixed service’.\n",
    "\n",
    "### Mobile\n",
    "A mobile service is defined as: ‘A radiocommunication service between mobile and land\n",
    "stations, or between mobile stations (CV).’\n",
    "\n",
    "A mobile-satellite service is defined as: ‘A radiocommunication service:\n",
    "Between mobile earth stations and one or more space stations, or between space stations used by this service; or\n",
    "Between mobile earth stations by means of one or more space stations.\n",
    "This service may also include feeder links necessary for its operation.’\n",
    "\n",
    "These definitions denote a service where the ground stations are not in fixed locations. KSAT has two groundstations (Svalsat and Trollsat) which are both fixed. As such the Skyhopper network would not qualify as a ‘mobile service’\n",
    "\n",
    "\n",
    "### Space Operation\n",
    "A space operation service is defined as: ‘A radiocommunication service concerned exclusively with the operation of spacecraft, in particular space tracking, space telemetry and space telecommand.’\n",
    "\n",
    "This is a vague definition that seems very broad. Whilst space tracking, telemetry, and telecommand will be utilised to varying extents by Skyhopper, it is not clear whether the ‘Space Operation’ definition is broad and all encompassing or more focused on space missions of a certain type such as manned missions or missions involving robotic tools etc.\n",
    "\n",
    "Due to the vagueness of this definition, whilst Skyhopper may qualify as a ‘space operation service’, it is recommended that more focus is put on the ‘space research service’ classification.\n",
    "\n",
    "In reality, the distinction between ‘space operation’ and ‘space research’ may be trivial due to some frequencies in the relevant range being shared by the two classifications.\n",
    "\n",
    "### Earth Exploration\n",
    "An Earth exploration-satellite service is defined as: ‘A radiocommunication service between earth stations and one or more space stations, which may include links between space stations, in which:\n",
    "information relating to the characteristics of the Earth and its natural phenomena, including data relating to the state of the environment, is obtained from active sensors or passive sensors on Earth satellites;\n",
    "similar information is collected from airborne or Earth-based platforms;\n",
    "such information may be distributed to earth stations within the system concerned;\n",
    "platform interrogation may be included.\n",
    "This service may also include feeder links necessary for its operation.’\n",
    "\n",
    "Skyhopper will not be observing Earth in any capacity and so the ‘Earth exploration-satellite service’ classification will not be available to Skyhopper.\n",
    "\n",
    "### Space Research\n",
    "To use a Space Research band, the associated network must be a ‘Space Research Service’. This is defined in the ITU regulations as ‘A radiocommunication service in which spacecraft or other objects in space are used for scientific or technological research purposes.’\n",
    "\n",
    "No further guidelines are provided to help determine whether a service is a ‘space research service’. However, due to the purely scientific nature of the payload, and the scientific reputation of the universities involved it is highly likely that Skyhopper will qualify for an allocation as a ‘Space Research’ mission."
   ]
  },
  {
   "cell_type": "markdown",
   "metadata": {},
   "source": [
    "## Pass Analysis\n",
    "Using the orbital information for Skyhopper provided, an analysis was performed using the STK software to determine the availability windows where the groundstations could comminucate with the satellite.\n",
    "\n",
    "**The following information was used:**\n",
    "\n",
    "Orbital altitude: 550km\n",
    "\n",
    "Orbital inclination: 92 deg\n",
    "\n",
    "**The following assumptions were made:**\n",
    "\n",
    "Groundstation effective range: 2000km\n",
    "\n",
    "Groundstation effective angular elevation [CHECK WORDING]: 10 deg\n",
    "![Skyhopper STK Analysis](Images/STK_Skyhopper.PNG)\n",
    "\n",
    "\n",
    "The analysis showed that Skyhopper should have 7 passes per day [CHECK THIS], per groundstation, on average. These passes should last between 6.4-7 minutes. [CHECK THESE NUMBERS AS WELL]\n",
    "\n",
    "The STK files, the outputed access analysis '.csv' files, as well as our further analysis are available in the data folder in this repository."
   ]
  },
  {
   "cell_type": "markdown",
   "metadata": {},
   "source": [
    "## Pass Data Analysis"
   ]
  },
  {
   "cell_type": "markdown",
   "metadata": {},
   "source": [
    "Here we will anaylse the pass data for Svalsat and Trollsat groundstations with Skyhopper"
   ]
  },
  {
   "cell_type": "code",
   "execution_count": 2,
   "metadata": {},
   "outputs": [],
   "source": [
    "# import libraries and setup the data parse function\n",
    "import pandas as pd\n",
    "dateparse = lambda x: pd.datetime.strptime(x, '%d %b %Y %H:%M:%S.%f')"
   ]
  },
  {
   "cell_type": "code",
   "execution_count": 11,
   "metadata": {},
   "outputs": [],
   "source": [
    "# Load the one year of Trollsat and Svalsat data\n",
    "oneYearTrollsat = pd.read_csv(\"data/Skyhopper_Trollsat_Access_1year.csv\", index_col=1, parse_dates=['Start Time (UTCG)', 'Stop Time (UTCG)'], date_parser=dateparse)\n",
    "oneYearSvalsat = pd.read_csv(\"data/Skyhopper_Svalsat_Access_1year.csv\", index_col=1, parse_dates=['Start Time (UTCG)', 'Stop Time (UTCG)'], date_parser=dateparse)"
   ]
  },
  {
   "cell_type": "markdown",
   "metadata": {},
   "source": [
    "### Svalsat Analysis"
   ]
  },
  {
   "cell_type": "markdown",
   "metadata": {},
   "source": [
    "Here we calculate the amount of passes each day and show the mean, std, min and max."
   ]
  },
  {
   "cell_type": "code",
   "execution_count": 12,
   "metadata": {
    "scrolled": true
   },
   "outputs": [
    {
     "data": {
      "text/plain": [
       "count    365.000000\n",
       "mean      15.032877\n",
       "std        0.178559\n",
       "min       15.000000\n",
       "25%       15.000000\n",
       "50%       15.000000\n",
       "75%       15.000000\n",
       "max       16.000000\n",
       "Name: Access, dtype: float64"
      ]
     },
     "execution_count": 12,
     "metadata": {},
     "output_type": "execute_result"
    }
   ],
   "source": [
    "count = oneYearSvalsat.groupby(oneYearSvalsat.index.date).count()\n",
    "count['Access'].describe()"
   ]
  },
  {
   "cell_type": "markdown",
   "metadata": {},
   "source": [
    "Now we will calculate the mean, std, min and max for duration of those passes"
   ]
  },
  {
   "cell_type": "code",
   "execution_count": 14,
   "metadata": {},
   "outputs": [
    {
     "data": {
      "text/html": [
       "<div>\n",
       "<style scoped>\n",
       "    .dataframe tbody tr th:only-of-type {\n",
       "        vertical-align: middle;\n",
       "    }\n",
       "\n",
       "    .dataframe tbody tr th {\n",
       "        vertical-align: top;\n",
       "    }\n",
       "\n",
       "    .dataframe thead th {\n",
       "        text-align: right;\n",
       "    }\n",
       "</style>\n",
       "<table border=\"1\" class=\"dataframe\">\n",
       "  <thead>\n",
       "    <tr style=\"text-align: right;\">\n",
       "      <th></th>\n",
       "      <th>Access</th>\n",
       "      <th>Duration (sec)</th>\n",
       "    </tr>\n",
       "  </thead>\n",
       "  <tbody>\n",
       "    <tr>\n",
       "      <th>count</th>\n",
       "      <td>5487.0</td>\n",
       "      <td>5487.0</td>\n",
       "    </tr>\n",
       "    <tr>\n",
       "      <th>mean</th>\n",
       "      <td>2744.0</td>\n",
       "      <td>399.0</td>\n",
       "    </tr>\n",
       "    <tr>\n",
       "      <th>std</th>\n",
       "      <td>1584.0</td>\n",
       "      <td>80.0</td>\n",
       "    </tr>\n",
       "    <tr>\n",
       "      <th>min</th>\n",
       "      <td>1.0</td>\n",
       "      <td>219.0</td>\n",
       "    </tr>\n",
       "    <tr>\n",
       "      <th>25%</th>\n",
       "      <td>1372.0</td>\n",
       "      <td>374.0</td>\n",
       "    </tr>\n",
       "    <tr>\n",
       "      <th>50%</th>\n",
       "      <td>2744.0</td>\n",
       "      <td>416.0</td>\n",
       "    </tr>\n",
       "    <tr>\n",
       "      <th>75%</th>\n",
       "      <td>4116.0</td>\n",
       "      <td>468.0</td>\n",
       "    </tr>\n",
       "    <tr>\n",
       "      <th>max</th>\n",
       "      <td>5487.0</td>\n",
       "      <td>489.0</td>\n",
       "    </tr>\n",
       "  </tbody>\n",
       "</table>\n",
       "</div>"
      ],
      "text/plain": [
       "       Access  Duration (sec)\n",
       "count  5487.0          5487.0\n",
       "mean   2744.0           399.0\n",
       "std    1584.0            80.0\n",
       "min       1.0           219.0\n",
       "25%    1372.0           374.0\n",
       "50%    2744.0           416.0\n",
       "75%    4116.0           468.0\n",
       "max    5487.0           489.0"
      ]
     },
     "execution_count": 14,
     "metadata": {},
     "output_type": "execute_result"
    }
   ],
   "source": [
    "oneYearSvalsat.describe().round()"
   ]
  },
  {
   "cell_type": "markdown",
   "metadata": {},
   "source": [
    "### Trollsat Analysis"
   ]
  },
  {
   "cell_type": "markdown",
   "metadata": {},
   "source": [
    "Here we calculate the amount of passes each day and show the mean, std, min and max."
   ]
  },
  {
   "cell_type": "code",
   "execution_count": 16,
   "metadata": {},
   "outputs": [
    {
     "data": {
      "text/plain": [
       "count    365.000000\n",
       "mean      10.227397\n",
       "std        0.438924\n",
       "min       10.000000\n",
       "25%       10.000000\n",
       "50%       10.000000\n",
       "75%       10.000000\n",
       "max       12.000000\n",
       "Name: Access, dtype: float64"
      ]
     },
     "execution_count": 16,
     "metadata": {},
     "output_type": "execute_result"
    }
   ],
   "source": [
    "count = oneYearTrollsat.groupby(oneYearTrollsat.index.date).count()\n",
    "count['Access'].describe()"
   ]
  },
  {
   "cell_type": "markdown",
   "metadata": {},
   "source": [
    "Now we will calculate the mean, std, min and max for duration of those passes"
   ]
  },
  {
   "cell_type": "code",
   "execution_count": 17,
   "metadata": {},
   "outputs": [
    {
     "data": {
      "text/html": [
       "<div>\n",
       "<style scoped>\n",
       "    .dataframe tbody tr th:only-of-type {\n",
       "        vertical-align: middle;\n",
       "    }\n",
       "\n",
       "    .dataframe tbody tr th {\n",
       "        vertical-align: top;\n",
       "    }\n",
       "\n",
       "    .dataframe thead th {\n",
       "        text-align: right;\n",
       "    }\n",
       "</style>\n",
       "<table border=\"1\" class=\"dataframe\">\n",
       "  <thead>\n",
       "    <tr style=\"text-align: right;\">\n",
       "      <th></th>\n",
       "      <th>Access</th>\n",
       "      <th>Duration (sec)</th>\n",
       "    </tr>\n",
       "  </thead>\n",
       "  <tbody>\n",
       "    <tr>\n",
       "      <th>count</th>\n",
       "      <td>5487.0</td>\n",
       "      <td>5487.0</td>\n",
       "    </tr>\n",
       "    <tr>\n",
       "      <th>mean</th>\n",
       "      <td>2744.0</td>\n",
       "      <td>399.0</td>\n",
       "    </tr>\n",
       "    <tr>\n",
       "      <th>std</th>\n",
       "      <td>1584.0</td>\n",
       "      <td>80.0</td>\n",
       "    </tr>\n",
       "    <tr>\n",
       "      <th>min</th>\n",
       "      <td>1.0</td>\n",
       "      <td>219.0</td>\n",
       "    </tr>\n",
       "    <tr>\n",
       "      <th>25%</th>\n",
       "      <td>1372.0</td>\n",
       "      <td>374.0</td>\n",
       "    </tr>\n",
       "    <tr>\n",
       "      <th>50%</th>\n",
       "      <td>2744.0</td>\n",
       "      <td>416.0</td>\n",
       "    </tr>\n",
       "    <tr>\n",
       "      <th>75%</th>\n",
       "      <td>4116.0</td>\n",
       "      <td>468.0</td>\n",
       "    </tr>\n",
       "    <tr>\n",
       "      <th>max</th>\n",
       "      <td>5487.0</td>\n",
       "      <td>489.0</td>\n",
       "    </tr>\n",
       "  </tbody>\n",
       "</table>\n",
       "</div>"
      ],
      "text/plain": [
       "       Access  Duration (sec)\n",
       "count  5487.0          5487.0\n",
       "mean   2744.0           399.0\n",
       "std    1584.0            80.0\n",
       "min       1.0           219.0\n",
       "25%    1372.0           374.0\n",
       "50%    2744.0           416.0\n",
       "75%    4116.0           468.0\n",
       "max    5487.0           489.0"
      ]
     },
     "execution_count": 17,
     "metadata": {},
     "output_type": "execute_result"
    }
   ],
   "source": [
    "oneYearSvalsat.describe().round()"
   ]
  },
  {
   "cell_type": "code",
   "execution_count": null,
   "metadata": {},
   "outputs": [],
   "source": []
  },
  {
   "cell_type": "code",
   "execution_count": null,
   "metadata": {},
   "outputs": [],
   "source": []
  },
  {
   "cell_type": "code",
   "execution_count": null,
   "metadata": {},
   "outputs": [],
   "source": []
  },
  {
   "cell_type": "markdown",
   "metadata": {},
   "source": [
    "## Data Throughput"
   ]
  },
  {
   "cell_type": "markdown",
   "metadata": {},
   "source": [
    "### Link Budget"
   ]
  },
  {
   "cell_type": "markdown",
   "metadata": {},
   "source": [
    "### Signal-to-Noise Ratio"
   ]
  },
  {
   "cell_type": "markdown",
   "metadata": {},
   "source": [
    "### Throughput"
   ]
  },
  {
   "cell_type": "markdown",
   "metadata": {},
   "source": [
    "## Cost"
   ]
  },
  {
   "cell_type": "code",
   "execution_count": null,
   "metadata": {
    "collapsed": true
   },
   "outputs": [],
   "source": []
  }
 ],
 "metadata": {
  "kernelspec": {
   "display_name": "Python 2",
   "language": "python",
   "name": "python2"
  },
  "language_info": {
   "codemirror_mode": {
    "name": "ipython",
    "version": 2
   },
   "file_extension": ".py",
   "mimetype": "text/x-python",
   "name": "python",
   "nbconvert_exporter": "python",
   "pygments_lexer": "ipython2",
   "version": "2.7.17"
  }
 },
 "nbformat": 4,
 "nbformat_minor": 2
}
