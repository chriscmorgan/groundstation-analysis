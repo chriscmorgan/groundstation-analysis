{
 "cells": [
  {
   "cell_type": "markdown",
   "metadata": {},
   "source": [
    "# Single 28m Dish Groundstation Analysis"
   ]
  },
  {
   "cell_type": "markdown",
   "metadata": {},
   "source": [
    "## Summary\n",
    "Little information is known about the potential 28m station other than that is to be located in Northern Perth. The technical specifications are similar but not identical to the KSAT groundstations."
   ]
  },
  {
   "cell_type": "markdown",
   "metadata": {},
   "source": [
    "## Frequency Allocation\n",
    "The 28m Dish is listed to receive between the 2200-2300 MHz and transmit between 2025-2120 MHz ranges which are located in the S-band. The S-band is a designation by the Institute of Electrical and Electronics Engineers (IEEE) for a part of the microwave band of the electromagnetic spectrum covering frequencies from 2000 to 4000 MHz.\n",
    "\n",
    "Within the 28m Dish S-band ranges, the ITU has allocated frequency bands to ‘fixed’, ‘mobile’, ‘space operation’, ‘earth exploration’, and ‘space research’ services. All following definitions are taken from the ITU regulations.\n",
    "\n",
    "\n",
    "### Fixed\n",
    "A fixed service is defined as ‘a radiocommunication service between specified fixed points.’\n",
    "\n",
    "A fixed satellite service is defined as : ‘A radiocommunication service between earth stations at given positions, when one or more satellites are used; the given position may be a specified fixed point or any fixed point within specified areas; in some cases this service includes satellite-to-satellite links, which may also be operated in the inter-satellite service; the fixed-satellite service may also include feeder links for other space radiocommunication services.’\n",
    "\n",
    "These definitions denote a service with fixed start and end points. By Skyhopper’s nature, it will not remain in a fixed position. Since Skyhopper will act as the origin and destination of information, the Skyhopper network will not qualify as a ‘fixed service’.\n",
    "\n",
    "### Mobile\n",
    "A mobile service is defined as: ‘A radiocommunication service between mobile and land\n",
    "stations, or between mobile stations (CV).’\n",
    "\n",
    "A mobile-satellite service is defined as: ‘A radiocommunication service:\n",
    "Between mobile earth stations and one or more space stations, or between space stations used by this service; or\n",
    "Between mobile earth stations by means of one or more space stations.\n",
    "This service may also include feeder links necessary for its operation.’\n",
    "\n",
    "These definitions denote a service where the ground stations are not in fixed locations. The 28m Dish Ground Station is fixed in one location. As such the Skyhopper network would not qualify as a ‘mobile service’\n",
    "\n",
    "\n",
    "### Space Operation\n",
    "A space operation service is defined as: ‘A radiocommunication service concerned exclusively with the operation of spacecraft, in particular space tracking, space telemetry and space telecommand.’\n",
    "\n",
    "This is a vague definition that seems very broad. Whilst space tracking, telemetry, and telecommand will be utilised to varying extents by Skyhopper, it is not clear whether the ‘Space Operation’ definition is broad and all encompassing or more focused on space missions of a certain type such as manned missions or missions involving robotic tools etc.\n",
    "\n",
    "Due to the vagueness of this definition, whilst Skyhopper may qualify as a ‘space operation service’, it is recommended that more focus is put on the ‘space research service’ classification.\n",
    "\n",
    "In reality, the distinction between ‘space operation’ and ‘space research’ may be trivial due to some frequencies in the relevant range being shared by the two classifications.\n",
    "\n",
    "### Earth Exploration\n",
    "An Earth exploration-satellite service is defined as: ‘A radiocommunication service between earth stations and one or more space stations, which may include links between space stations, in which:\n",
    "information relating to the characteristics of the Earth and its natural phenomena, including data relating to the state of the environment, is obtained from active sensors or passive sensors on Earth satellites;\n",
    "similar information is collected from airborne or Earth-based platforms;\n",
    "such information may be distributed to earth stations within the system concerned;\n",
    "platform interrogation may be included.\n",
    "This service may also include feeder links necessary for its operation.’\n",
    "\n",
    "Skyhopper will not be observing Earth in any capacity and so the ‘Earth exploration-satellite service’ classification will not be available to Skyhopper.\n",
    "\n",
    "### Space Research\n",
    "To use a Space Research band, the associated network must be a ‘Space Research Service’. This is defined in the ITU regulations as ‘A radiocommunication service in which spacecraft or other objects in space are used for scientific or technological research purposes.’\n",
    "\n",
    "No further guidelines are provided to help determine whether a service is a ‘space research service’. However, due to the purely scientific nature of the payload, and the scientific reputation of the universities involved it is highly likely that Skyhopper will qualify for an allocation as a ‘Space Research’ mission."
   ]
  },
  {
   "cell_type": "markdown",
   "metadata": {},
   "source": [
    "## Pass Analysis\n",
    "Using the orbital information for Skyhopper provided, an analysis was performed using the STK software to determine the availability windows where the groundstations could comminucate with the satellite.\n",
    "\n",
    "**The following information was used:**\n",
    "\n",
    "Orbital altitude: 550km\n",
    "\n",
    "Orbital inclination: 92 deg\n",
    "\n",
    "**The following assumptions were made:**\n",
    "\n",
    "Groundstation effective range: 2000km\n",
    "\n",
    "Groundstation effective angular elevation: 10 deg\n",
    "![Skyhopper STK Analysis](Images/STK_Skyhopper_28m.PNG)\n",
    "\n",
    "The STK files, the outputed access analysis '.csv' files, as well as our further analysis are available in the data folder in this repository."
   ]
  },
  {
   "cell_type": "markdown",
   "metadata": {},
   "source": [
    "## Pass Data Analysis"
   ]
  },
  {
   "cell_type": "markdown",
   "metadata": {},
   "source": [
    "Here we will anaylse the pass data for Svalsat and Trollsat groundstations with Skyhopper"
   ]
  },
  {
   "cell_type": "code",
   "execution_count": 8,
   "metadata": {
    "collapsed": true
   },
   "outputs": [],
   "source": [
    "# import libraries and setup the data parse function\n",
    "import pandas as pd\n",
    "dateparse = lambda x: pd.datetime.strptime(x, '%d %b %Y %H:%M:%S.%f')"
   ]
  },
  {
   "cell_type": "code",
   "execution_count": 9,
   "metadata": {
    "collapsed": false
   },
   "outputs": [],
   "source": [
    "# Load the one year of 28m Dish data\n",
    "oneYear28m = pd.read_csv(\"data/28m/Skyhopper_NorthernPerth(28m)_Access_1year.csv\", index_col=1, parse_dates=['Start Time (UTCG)', 'Stop Time (UTCG)'], date_parser=dateparse)"
   ]
  },
  {
   "cell_type": "markdown",
   "metadata": {},
   "source": [
    "### 28m Dish Analysis"
   ]
  },
  {
   "cell_type": "markdown",
   "metadata": {},
   "source": [
    "Here we calculate the amount of passes each day and show the mean, std, min and max."
   ]
  },
  {
   "cell_type": "code",
   "execution_count": 10,
   "metadata": {
    "collapsed": false,
    "scrolled": true
   },
   "outputs": [
    {
     "data": {
      "text/plain": [
       "count    365.000000\n",
       "mean       3.142466\n",
       "std        0.621483\n",
       "min        2.000000\n",
       "25%        3.000000\n",
       "50%        3.000000\n",
       "75%        4.000000\n",
       "max        4.000000\n",
       "Name: Access, dtype: float64"
      ]
     },
     "execution_count": 10,
     "metadata": {},
     "output_type": "execute_result"
    }
   ],
   "source": [
    "count = oneYear28m.groupby(oneYear28m.index.date).count()\n",
    "count['Access'].describe()"
   ]
  },
  {
   "cell_type": "markdown",
   "metadata": {},
   "source": [
    "Now we will calculate the mean, std, min and max for duration of those passes"
   ]
  },
  {
   "cell_type": "code",
   "execution_count": 11,
   "metadata": {
    "collapsed": false
   },
   "outputs": [
    {
     "data": {
      "text/html": [
       "<div>\n",
       "<table border=\"1\" class=\"dataframe\">\n",
       "  <thead>\n",
       "    <tr style=\"text-align: right;\">\n",
       "      <th></th>\n",
       "      <th>Access</th>\n",
       "      <th>Duration (sec)</th>\n",
       "    </tr>\n",
       "  </thead>\n",
       "  <tbody>\n",
       "    <tr>\n",
       "      <th>count</th>\n",
       "      <td>1147.0</td>\n",
       "      <td>1147.0</td>\n",
       "    </tr>\n",
       "    <tr>\n",
       "      <th>mean</th>\n",
       "      <td>574.0</td>\n",
       "      <td>369.0</td>\n",
       "    </tr>\n",
       "    <tr>\n",
       "      <th>std</th>\n",
       "      <td>331.0</td>\n",
       "      <td>108.0</td>\n",
       "    </tr>\n",
       "    <tr>\n",
       "      <th>min</th>\n",
       "      <td>1.0</td>\n",
       "      <td>21.0</td>\n",
       "    </tr>\n",
       "    <tr>\n",
       "      <th>25%</th>\n",
       "      <td>288.0</td>\n",
       "      <td>305.0</td>\n",
       "    </tr>\n",
       "    <tr>\n",
       "      <th>50%</th>\n",
       "      <td>574.0</td>\n",
       "      <td>405.0</td>\n",
       "    </tr>\n",
       "    <tr>\n",
       "      <th>75%</th>\n",
       "      <td>860.0</td>\n",
       "      <td>457.0</td>\n",
       "    </tr>\n",
       "    <tr>\n",
       "      <th>max</th>\n",
       "      <td>1147.0</td>\n",
       "      <td>479.0</td>\n",
       "    </tr>\n",
       "  </tbody>\n",
       "</table>\n",
       "</div>"
      ],
      "text/plain": [
       "       Access  Duration (sec)\n",
       "count  1147.0          1147.0\n",
       "mean    574.0           369.0\n",
       "std     331.0           108.0\n",
       "min       1.0            21.0\n",
       "25%     288.0           305.0\n",
       "50%     574.0           405.0\n",
       "75%     860.0           457.0\n",
       "max    1147.0           479.0"
      ]
     },
     "execution_count": 11,
     "metadata": {},
     "output_type": "execute_result"
    }
   ],
   "source": [
    "oneYear28m.describe().round()"
   ]
  },
  {
   "cell_type": "markdown",
   "metadata": {},
   "source": [
    "## Data Throughput"
   ]
  },
  {
   "cell_type": "markdown",
   "metadata": {},
   "source": [
    "### Link Budget\n",
    "The equations below give the link budget for the satellite using the KSAT ground station. The output from this link budget will then be used to determine the throughput and finally the estimated cost of the mission.\n",
    "### Fundamental Limitations\n",
    "#### Bandwidth\n",
    "Bandwidth is the spectrum of our signal. In our case, we choose our bandwidth, but this will lead to another limitation. When we reduce our bandwidth, we reduce the amount of information that we can send down. We have chosen a bandwidth based on the bandwidth allocated to similar missions.\n",
    "#### Free Space Path Loss\n",
    "As a radio signal leaves the transmitter antenna, it undergoes a phenomenon known as Free Space Path Loss (FSPL) or Path Loss. Path loss explains that as a signal propagates through space, it expands outward, resulting in a reduction in power levels.\n",
    "#### Atmospheric Attenuation\n",
    "$\\text{Attenuation} = 0.007*distance$\n",
    "(Need to graph)\n",
    "The distance will change depending on the elevation. At low elevations, the atmospheric attenuation becomes signifcant as the distance is greater.\n",
    "### Hartley Shannon Law\n",
    "$C = B\\log_2(1+SNR)$\n",
    "The above equation gives the maximum rate of information transfer for a given bandwidth and SNR. It gives an upper limit on the performance of the system and allows us to determine the approximate expected cost for the mission.\n",
    "Note: This law assumes that the noise is random with gaussian distribution and the information is randomly coded.\n",
    "### Modulation\n",
    "There are two possible modulation schemes for the satellite: BPSK and QPSK.\n",
    "Depending on what modulation scheme is chosen, the above calculation may be improved; require less bandwidth. If a modulation scheme is used that is able to embed more information in to each bit, other issues may arise though. These modulation schemes often  require more power and may result in a larger signal to noise ratio. More power  = larger spacing between different symbols. More Noise = Symbols are too close together."
   ]
  },
  {
   "cell_type": "code",
   "execution_count": 4,
   "metadata": {
    "collapsed": false
   },
   "outputs": [
    {
     "name": "stdout",
     "output_type": "stream",
     "text": [
      "79961.7621635985\n",
      "1815078.8128430482\n",
      "164.663332296519\n"
     ]
    }
   ],
   "source": [
    "import math\n",
    "Frequency = 2.25E+09\n",
    "Bandwidth = 100000.00\n",
    "Orbit_Altitude = 550000.00\n",
    "c = 300000000.00\n",
    "PI = 3.141592654\n",
    "Air = 1.64\n",
    "Atmosphere = 100000.00\n",
    "Radius_of_Earth = 6371000\n",
    "Minimum_Elevation_Angle = math.radians(10)\n",
    "Maximum_Distance = -Radius_of_Earth*math.sin(Minimum_Elevation_Angle)+math.sqrt((Radius_of_Earth*math.sin(Minimum_Elevation_Angle))**2+Orbit_Altitude**2+2*Radius_of_Earth*Orbit_Altitude)\n",
    "Maximum_Distance_Atmosphere = -Radius_of_Earth*math.sin(Minimum_Elevation_Angle)+math.sqrt((Radius_of_Earth*math.sin(Minimum_Elevation_Angle))**2+Orbit_Altitude**2+2*Radius_of_Earth*Atmosphere)\n",
    "#Satelite to Ground Station\n",
    "Transmitted_Power_Output = 39.24\n",
    "Radio_Gain = 35.00\n",
    "Noise_Figure = 0.75\n",
    "Transmitter_Antenna_gain = 8.30\n",
    "Transmitter_Losses = 0.00\n",
    "Free_Space_Loss = 20*math.log(Maximum_Distance ,10)+20*math.log(Frequency,10)+20*math.log(4*PI/c,10)\n",
    "Atmospheric_Attentuation = 7*10**(-3)*Maximum_Distance_Atmosphere/1000\n",
    "Half_Power_Beamwidth = 71.0\n",
    "Receiver_Antenna_Gain = 4.7\n",
    "SNR = Transmitted_Power_Output+Transmitter_Antenna_gain-Transmitter_Losses-Atmospheric_Attentuation+Receiver_Antenna_Gain+Radio_Gain\n",
    "Channel_Capacity = Bandwidth*math.log(1+SNR,2)\n",
    "print(Channel_Capacity/8)\n",
    "print(Maximum_Distance)\n",
    "print(Free_Space_Loss)"
   ]
  },
  {
   "cell_type": "markdown",
   "metadata": {},
   "source": [
    "### Signal-to-Noise Ratio"
   ]
  },
  {
   "cell_type": "code",
   "execution_count": 5,
   "metadata": {
    "collapsed": false
   },
   "outputs": [
    {
     "name": "stdout",
     "output_type": "stream",
     "text": [
      "Northern Perth 28m Dish Average Pass Downlink Throughput 29.505890238367844 MB\n"
     ]
    }
   ],
   "source": [
    "def throughput(time,name):\n",
    "    throughput = (Channel_Capacity*time)/8\n",
    "    throughputmbs = throughput/(10**6)\n",
    "    print (name, \"Average Pass Downlink Throughput\", throughputmbs, \"MB\")\n",
    "    \n",
    "throughput(369,\"Northern Perth 28m Dish\")"
   ]
  },
  {
   "cell_type": "markdown",
   "metadata": {},
   "source": [
    "### Throughput"
   ]
  },
  {
   "cell_type": "markdown",
   "metadata": {},
   "source": [
    "## Cost"
   ]
  },
  {
   "cell_type": "code",
   "execution_count": null,
   "metadata": {
    "collapsed": true
   },
   "outputs": [],
   "source": []
  }
 ],
 "metadata": {
  "kernelspec": {
   "display_name": "Python 3",
   "language": "python",
   "name": "python3"
  },
  "language_info": {
   "codemirror_mode": {
    "name": "ipython",
    "version": 3
   },
   "file_extension": ".py",
   "mimetype": "text/x-python",
   "name": "python",
   "nbconvert_exporter": "python",
   "pygments_lexer": "ipython3",
   "version": "3.6.0"
  }
 },
 "nbformat": 4,
 "nbformat_minor": 2
}
