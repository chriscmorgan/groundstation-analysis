{
 "cells": [
  {
   "cell_type": "markdown",
   "metadata": {},
   "source": [
    "# Trollsat Access 1 Month"
   ]
  },
  {
   "cell_type": "code",
   "execution_count": 2,
   "metadata": {},
   "outputs": [],
   "source": [
    "import pandas as pd"
   ]
  },
  {
   "cell_type": "code",
   "execution_count": 3,
   "metadata": {},
   "outputs": [],
   "source": [
    "dateparse = lambda x: pd.datetime.strptime(x, '%d %b %Y %H:%M:%S.%f')"
   ]
  },
  {
   "cell_type": "code",
   "execution_count": 3,
   "metadata": {},
   "outputs": [],
   "source": [
    "Trollsat = pd.read_csv(\"data/Skyhopper_Trollsat_Access_1month.csv\", index_col=1, parse_dates=['Start Time (UTCG)', 'Stop Time (UTCG)'], date_parser=dateparse)"
   ]
  },
  {
   "cell_type": "code",
   "execution_count": 4,
   "metadata": {
    "scrolled": true
   },
   "outputs": [
    {
     "name": "stdout",
     "output_type": "stream",
     "text": [
      "<class 'pandas.core.frame.DataFrame'>\n",
      "DatetimeIndex: 300 entries, 2022-06-01 05:24:37.083000 to 2022-06-30 19:38:36.856000\n",
      "Data columns (total 3 columns):\n",
      "Access              300 non-null int64\n",
      "Stop Time (UTCG)    300 non-null datetime64[ns]\n",
      "Duration (sec)      300 non-null float64\n",
      "dtypes: datetime64[ns](1), float64(1), int64(1)\n",
      "memory usage: 9.4 KB\n"
     ]
    }
   ],
   "source": [
    "Trollsat.info()"
   ]
  },
  {
   "cell_type": "code",
   "execution_count": 5,
   "metadata": {
    "scrolled": true
   },
   "outputs": [
    {
     "data": {
      "text/plain": [
       "2022-06-01    10\n",
       "2022-06-02    10\n",
       "2022-06-03    10\n",
       "2022-06-04    10\n",
       "2022-06-05    10\n",
       "2022-06-06    10\n",
       "2022-06-07    10\n",
       "2022-06-08    10\n",
       "2022-06-09    10\n",
       "2022-06-10    10\n",
       "2022-06-11    10\n",
       "2022-06-12    10\n",
       "2022-06-13    10\n",
       "2022-06-14    10\n",
       "2022-06-15    10\n",
       "2022-06-16    10\n",
       "2022-06-17    10\n",
       "2022-06-18    10\n",
       "2022-06-19    10\n",
       "2022-06-20    10\n",
       "2022-06-21    10\n",
       "2022-06-22    10\n",
       "2022-06-23    10\n",
       "2022-06-24    10\n",
       "2022-06-25    10\n",
       "2022-06-26    10\n",
       "2022-06-27    10\n",
       "2022-06-28    10\n",
       "2022-06-29    10\n",
       "2022-06-30    10\n",
       "Name: Access, dtype: int64"
      ]
     },
     "execution_count": 5,
     "metadata": {},
     "output_type": "execute_result"
    }
   ],
   "source": [
    "count = Trollsat.groupby(Trollsat.index.date).count()\n",
    "count['Access']"
   ]
  },
  {
   "cell_type": "code",
   "execution_count": 20,
   "metadata": {
    "scrolled": true
   },
   "outputs": [
    {
     "data": {
      "text/plain": [
       "2022-06-01    3629.424\n",
       "2022-06-02    3630.311\n",
       "2022-06-03    3631.161\n",
       "2022-06-04    3631.978\n",
       "2022-06-05    3632.765\n",
       "2022-06-06    3633.518\n",
       "2022-06-07    3634.245\n",
       "2022-06-08    3634.934\n",
       "2022-06-09    3635.599\n",
       "2022-06-10    3636.232\n",
       "2022-06-11    3636.830\n",
       "2022-06-12    3637.398\n",
       "2022-06-13    3637.934\n",
       "2022-06-14    3638.441\n",
       "2022-06-15    3638.921\n",
       "2022-06-16    3639.375\n",
       "2022-06-17    3639.796\n",
       "2022-06-18    3640.192\n",
       "2022-06-19    3640.558\n",
       "2022-06-20    3640.896\n",
       "2022-06-21    3641.200\n",
       "2022-06-22    3641.482\n",
       "2022-06-23    3641.729\n",
       "2022-06-24    3641.952\n",
       "2022-06-25    3642.138\n",
       "2022-06-26    3642.294\n",
       "2022-06-27    3642.430\n",
       "2022-06-28    3642.534\n",
       "2022-06-29    3642.613\n",
       "2022-06-30    3642.662\n",
       "Name: Duration (sec), dtype: float64"
      ]
     },
     "execution_count": 20,
     "metadata": {},
     "output_type": "execute_result"
    }
   ],
   "source": [
    "daysum = Trollsat.groupby(Trollsat.index.date).sum()\n",
    "daysum['Duration (sec)']"
   ]
  },
  {
   "cell_type": "code",
   "execution_count": 21,
   "metadata": {
    "collapsed": true
   },
   "outputs": [
    {
     "data": {
      "text/html": [
       "<div>\n",
       "<style scoped>\n",
       "    .dataframe tbody tr th:only-of-type {\n",
       "        vertical-align: middle;\n",
       "    }\n",
       "\n",
       "    .dataframe tbody tr th {\n",
       "        vertical-align: top;\n",
       "    }\n",
       "\n",
       "    .dataframe thead th {\n",
       "        text-align: right;\n",
       "    }\n",
       "</style>\n",
       "<table border=\"1\" class=\"dataframe\">\n",
       "  <thead>\n",
       "    <tr style=\"text-align: right;\">\n",
       "      <th></th>\n",
       "      <th>Access</th>\n",
       "      <th>Duration (sec)</th>\n",
       "    </tr>\n",
       "  </thead>\n",
       "  <tbody>\n",
       "    <tr>\n",
       "      <th>count</th>\n",
       "      <td>300.000000</td>\n",
       "      <td>300.000000</td>\n",
       "    </tr>\n",
       "    <tr>\n",
       "      <th>mean</th>\n",
       "      <td>150.500000</td>\n",
       "      <td>363.805140</td>\n",
       "    </tr>\n",
       "    <tr>\n",
       "      <th>std</th>\n",
       "      <td>86.746758</td>\n",
       "      <td>117.743286</td>\n",
       "    </tr>\n",
       "    <tr>\n",
       "      <th>min</th>\n",
       "      <td>1.000000</td>\n",
       "      <td>115.802000</td>\n",
       "    </tr>\n",
       "    <tr>\n",
       "      <th>25%</th>\n",
       "      <td>75.750000</td>\n",
       "      <td>343.100000</td>\n",
       "    </tr>\n",
       "    <tr>\n",
       "      <th>50%</th>\n",
       "      <td>150.500000</td>\n",
       "      <td>371.338500</td>\n",
       "    </tr>\n",
       "    <tr>\n",
       "      <th>75%</th>\n",
       "      <td>225.250000</td>\n",
       "      <td>471.682000</td>\n",
       "    </tr>\n",
       "    <tr>\n",
       "      <th>max</th>\n",
       "      <td>300.000000</td>\n",
       "      <td>482.414000</td>\n",
       "    </tr>\n",
       "  </tbody>\n",
       "</table>\n",
       "</div>"
      ],
      "text/plain": [
       "           Access  Duration (sec)\n",
       "count  300.000000      300.000000\n",
       "mean   150.500000      363.805140\n",
       "std     86.746758      117.743286\n",
       "min      1.000000      115.802000\n",
       "25%     75.750000      343.100000\n",
       "50%    150.500000      371.338500\n",
       "75%    225.250000      471.682000\n",
       "max    300.000000      482.414000"
      ]
     },
     "execution_count": 21,
     "metadata": {},
     "output_type": "execute_result"
    }
   ],
   "source": [
    "Trollsat.describe()"
   ]
  },
  {
   "cell_type": "markdown",
   "metadata": {
    "collapsed": true
   },
   "source": [
    "# Svalsat Access 1 month"
   ]
  },
  {
   "cell_type": "code",
   "execution_count": 24,
   "metadata": {},
   "outputs": [],
   "source": [
    "Svalsat = pd.read_csv(\"data/Skyhopper_Svalsat_Access_1month.csv\", index_col=1, parse_dates=['Start Time (UTCG)', 'Stop Time (UTCG)'], date_parser=dateparse)"
   ]
  },
  {
   "cell_type": "code",
   "execution_count": 25,
   "metadata": {},
   "outputs": [
    {
     "name": "stdout",
     "output_type": "stream",
     "text": [
      "<class 'pandas.core.frame.DataFrame'>\n",
      "DatetimeIndex: 451 entries, 2022-06-01 01:19:53.654000 to 2022-06-30 23:41:29.728000\n",
      "Data columns (total 3 columns):\n",
      "Access              451 non-null int64\n",
      "Stop Time (UTCG)    451 non-null datetime64[ns]\n",
      "Duration (sec)      451 non-null float64\n",
      "dtypes: datetime64[ns](1), float64(1), int64(1)\n",
      "memory usage: 14.1 KB\n"
     ]
    }
   ],
   "source": [
    "Svalsat.info()"
   ]
  },
  {
   "cell_type": "code",
   "execution_count": 27,
   "metadata": {},
   "outputs": [
    {
     "data": {
      "text/plain": [
       "2022-06-01    15\n",
       "2022-06-02    15\n",
       "2022-06-03    15\n",
       "2022-06-04    15\n",
       "2022-06-05    15\n",
       "2022-06-06    15\n",
       "2022-06-07    15\n",
       "2022-06-08    15\n",
       "2022-06-09    15\n",
       "2022-06-10    15\n",
       "2022-06-11    15\n",
       "2022-06-12    15\n",
       "2022-06-13    15\n",
       "2022-06-14    15\n",
       "2022-06-15    15\n",
       "2022-06-16    15\n",
       "2022-06-17    15\n",
       "2022-06-18    15\n",
       "2022-06-19    15\n",
       "2022-06-20    15\n",
       "2022-06-21    15\n",
       "2022-06-22    15\n",
       "2022-06-23    15\n",
       "2022-06-24    15\n",
       "2022-06-25    16\n",
       "2022-06-26    15\n",
       "2022-06-27    15\n",
       "2022-06-28    15\n",
       "2022-06-29    15\n",
       "2022-06-30    15\n",
       "Name: Access, dtype: int64"
      ]
     },
     "execution_count": 27,
     "metadata": {},
     "output_type": "execute_result"
    }
   ],
   "source": [
    "count = Svalsat.groupby(Svalsat.index.date).count()\n",
    "count['Access']"
   ]
  },
  {
   "cell_type": "code",
   "execution_count": 28,
   "metadata": {},
   "outputs": [
    {
     "data": {
      "text/plain": [
       "2022-06-01    5987.166\n",
       "2022-06-02    5987.166\n",
       "2022-06-03    5987.164\n",
       "2022-06-04    5987.165\n",
       "2022-06-05    5987.159\n",
       "2022-06-06    5987.157\n",
       "2022-06-07    5987.153\n",
       "2022-06-08    5987.155\n",
       "2022-06-09    5987.148\n",
       "2022-06-10    5987.147\n",
       "2022-06-11    5987.150\n",
       "2022-06-12    5987.154\n",
       "2022-06-13    5987.157\n",
       "2022-06-14    5987.157\n",
       "2022-06-15    5987.153\n",
       "2022-06-16    5987.154\n",
       "2022-06-17    5987.147\n",
       "2022-06-18    5987.145\n",
       "2022-06-19    5987.143\n",
       "2022-06-20    5987.143\n",
       "2022-06-21    5987.139\n",
       "2022-06-22    5987.138\n",
       "2022-06-23    5987.141\n",
       "2022-06-24    5987.139\n",
       "2022-06-25    6368.845\n",
       "2022-06-26    5987.030\n",
       "2022-06-27    5987.030\n",
       "2022-06-28    5987.028\n",
       "2022-06-29    5987.032\n",
       "2022-06-30    5987.033\n",
       "Name: Duration (sec), dtype: float64"
      ]
     },
     "execution_count": 28,
     "metadata": {},
     "output_type": "execute_result"
    }
   ],
   "source": [
    "daysum = Svalsat.groupby(Svalsat.index.date).sum()\n",
    "daysum['Duration (sec)']"
   ]
  },
  {
   "cell_type": "code",
   "execution_count": 29,
   "metadata": {},
   "outputs": [
    {
     "data": {
      "text/html": [
       "<div>\n",
       "<style scoped>\n",
       "    .dataframe tbody tr th:only-of-type {\n",
       "        vertical-align: middle;\n",
       "    }\n",
       "\n",
       "    .dataframe tbody tr th {\n",
       "        vertical-align: top;\n",
       "    }\n",
       "\n",
       "    .dataframe thead th {\n",
       "        text-align: right;\n",
       "    }\n",
       "</style>\n",
       "<table border=\"1\" class=\"dataframe\">\n",
       "  <thead>\n",
       "    <tr style=\"text-align: right;\">\n",
       "      <th></th>\n",
       "      <th>Access</th>\n",
       "      <th>Duration (sec)</th>\n",
       "    </tr>\n",
       "  </thead>\n",
       "  <tbody>\n",
       "    <tr>\n",
       "      <th>count</th>\n",
       "      <td>451.000000</td>\n",
       "      <td>451.000000</td>\n",
       "    </tr>\n",
       "    <tr>\n",
       "      <th>mean</th>\n",
       "      <td>226.000000</td>\n",
       "      <td>399.103410</td>\n",
       "    </tr>\n",
       "    <tr>\n",
       "      <th>std</th>\n",
       "      <td>130.336743</td>\n",
       "      <td>80.353181</td>\n",
       "    </tr>\n",
       "    <tr>\n",
       "      <th>min</th>\n",
       "      <td>1.000000</td>\n",
       "      <td>219.496000</td>\n",
       "    </tr>\n",
       "    <tr>\n",
       "      <th>25%</th>\n",
       "      <td>113.500000</td>\n",
       "      <td>376.684000</td>\n",
       "    </tr>\n",
       "    <tr>\n",
       "      <th>50%</th>\n",
       "      <td>226.000000</td>\n",
       "      <td>417.008000</td>\n",
       "    </tr>\n",
       "    <tr>\n",
       "      <th>75%</th>\n",
       "      <td>338.500000</td>\n",
       "      <td>466.364500</td>\n",
       "    </tr>\n",
       "    <tr>\n",
       "      <th>max</th>\n",
       "      <td>451.000000</td>\n",
       "      <td>488.654000</td>\n",
       "    </tr>\n",
       "  </tbody>\n",
       "</table>\n",
       "</div>"
      ],
      "text/plain": [
       "           Access  Duration (sec)\n",
       "count  451.000000      451.000000\n",
       "mean   226.000000      399.103410\n",
       "std    130.336743       80.353181\n",
       "min      1.000000      219.496000\n",
       "25%    113.500000      376.684000\n",
       "50%    226.000000      417.008000\n",
       "75%    338.500000      466.364500\n",
       "max    451.000000      488.654000"
      ]
     },
     "execution_count": 29,
     "metadata": {},
     "output_type": "execute_result"
    }
   ],
   "source": [
    "Svalsat.describe()"
   ]
  },
  {
   "cell_type": "markdown",
   "metadata": {},
   "source": [
    "# 1 Year Analysis"
   ]
  },
  {
   "cell_type": "code",
   "execution_count": 4,
   "metadata": {},
   "outputs": [],
   "source": [
    "oneYearTrollsat = pd.read_csv(\"data/Skyhopper_Trollsat_Access_1year.csv\", index_col=1, parse_dates=['Start Time (UTCG)', 'Stop Time (UTCG)'], date_parser=dateparse)"
   ]
  },
  {
   "cell_type": "code",
   "execution_count": 5,
   "metadata": {},
   "outputs": [
    {
     "name": "stdout",
     "output_type": "stream",
     "text": [
      "<class 'pandas.core.frame.DataFrame'>\n",
      "DatetimeIndex: 3733 entries, 2022-06-01 05:24:37.083000 to 2023-05-31 23:38:07.068000\n",
      "Data columns (total 3 columns):\n",
      "Access              3733 non-null int64\n",
      "Stop Time (UTCG)    3733 non-null datetime64[ns]\n",
      "Duration (sec)      3733 non-null float64\n",
      "dtypes: datetime64[ns](1), float64(1), int64(1)\n",
      "memory usage: 116.7 KB\n"
     ]
    }
   ],
   "source": [
    "oneYearTrollsat.info()"
   ]
  },
  {
   "cell_type": "code",
   "execution_count": 21,
   "metadata": {},
   "outputs": [
    {
     "data": {
      "text/plain": [
       "count    365.000000\n",
       "mean      10.227397\n",
       "std        0.438924\n",
       "min       10.000000\n",
       "25%       10.000000\n",
       "50%       10.000000\n",
       "75%       10.000000\n",
       "max       12.000000\n",
       "Name: Access, dtype: float64"
      ]
     },
     "execution_count": 21,
     "metadata": {},
     "output_type": "execute_result"
    }
   ],
   "source": [
    "count = oneYearTrollsat.groupby(oneYearTrollsat.index.date).count()\n",
    "(count['Access']).describe()"
   ]
  },
  {
   "cell_type": "code",
   "execution_count": 22,
   "metadata": {},
   "outputs": [
    {
     "data": {
      "text/plain": [
       "count     365.000000\n",
       "mean     3659.195047\n",
       "std        62.867045\n",
       "min      3602.875000\n",
       "25%      3635.306000\n",
       "50%      3642.894000\n",
       "75%      3671.662000\n",
       "max      4179.217000\n",
       "Name: Duration (sec), dtype: float64"
      ]
     },
     "execution_count": 22,
     "metadata": {},
     "output_type": "execute_result"
    }
   ],
   "source": [
    "daysum = oneYearTrollsat.groupby(oneYearTrollsat.index.date).sum()\n",
    "daysum['Duration (sec)'].describe()"
   ]
  },
  {
   "cell_type": "code",
   "execution_count": 18,
   "metadata": {},
   "outputs": [
    {
     "data": {
      "text/html": [
       "<div>\n",
       "<style scoped>\n",
       "    .dataframe tbody tr th:only-of-type {\n",
       "        vertical-align: middle;\n",
       "    }\n",
       "\n",
       "    .dataframe tbody tr th {\n",
       "        vertical-align: top;\n",
       "    }\n",
       "\n",
       "    .dataframe thead th {\n",
       "        text-align: right;\n",
       "    }\n",
       "</style>\n",
       "<table border=\"1\" class=\"dataframe\">\n",
       "  <thead>\n",
       "    <tr style=\"text-align: right;\">\n",
       "      <th></th>\n",
       "      <th>Access</th>\n",
       "      <th>Duration (sec)</th>\n",
       "    </tr>\n",
       "  </thead>\n",
       "  <tbody>\n",
       "    <tr>\n",
       "      <th>count</th>\n",
       "      <td>3733.0</td>\n",
       "      <td>3733.0</td>\n",
       "    </tr>\n",
       "    <tr>\n",
       "      <th>mean</th>\n",
       "      <td>1867.0</td>\n",
       "      <td>358.0</td>\n",
       "    </tr>\n",
       "    <tr>\n",
       "      <th>std</th>\n",
       "      <td>1078.0</td>\n",
       "      <td>123.0</td>\n",
       "    </tr>\n",
       "    <tr>\n",
       "      <th>min</th>\n",
       "      <td>1.0</td>\n",
       "      <td>3.0</td>\n",
       "    </tr>\n",
       "    <tr>\n",
       "      <th>25%</th>\n",
       "      <td>934.0</td>\n",
       "      <td>283.0</td>\n",
       "    </tr>\n",
       "    <tr>\n",
       "      <th>50%</th>\n",
       "      <td>1867.0</td>\n",
       "      <td>390.0</td>\n",
       "    </tr>\n",
       "    <tr>\n",
       "      <th>75%</th>\n",
       "      <td>2800.0</td>\n",
       "      <td>467.0</td>\n",
       "    </tr>\n",
       "    <tr>\n",
       "      <th>max</th>\n",
       "      <td>3733.0</td>\n",
       "      <td>487.0</td>\n",
       "    </tr>\n",
       "  </tbody>\n",
       "</table>\n",
       "</div>"
      ],
      "text/plain": [
       "       Access  Duration (sec)\n",
       "count  3733.0          3733.0\n",
       "mean   1867.0           358.0\n",
       "std    1078.0           123.0\n",
       "min       1.0             3.0\n",
       "25%     934.0           283.0\n",
       "50%    1867.0           390.0\n",
       "75%    2800.0           467.0\n",
       "max    3733.0           487.0"
      ]
     },
     "execution_count": 18,
     "metadata": {},
     "output_type": "execute_result"
    }
   ],
   "source": [
    "oneYearTrollsat.describe().round()"
   ]
  },
  {
   "cell_type": "code",
   "execution_count": 28,
   "metadata": {},
   "outputs": [
    {
     "data": {
      "text/plain": [
       "count    365.000000\n",
       "mean      10.227397\n",
       "std        0.438924\n",
       "min       10.000000\n",
       "25%       10.000000\n",
       "50%       10.000000\n",
       "75%       10.000000\n",
       "max       12.000000\n",
       "Name: Access, dtype: float64"
      ]
     },
     "execution_count": 28,
     "metadata": {},
     "output_type": "execute_result"
    }
   ],
   "source": [
    "import pandas as pd\n",
    "dateparse = lambda x: pd.datetime.strptime(x, '%d %b %Y %H:%M:%S.%f')\n",
    "oneYearTrollsat = pd.read_csv(\"data/Skyhopper_Trollsat_Access_1year.csv\", index_col=1, parse_dates=['Start Time (UTCG)', 'Stop Time (UTCG)'], date_parser=dateparse)\n",
    "count = oneYearTrollsat.groupby(oneYearTrollsat.index.date).count()\n",
    "count['Access'].describe()"
   ]
  },
  {
   "cell_type": "code",
   "execution_count": 26,
   "metadata": {},
   "outputs": [
    {
     "data": {
      "text/html": [
       "<div>\n",
       "<style scoped>\n",
       "    .dataframe tbody tr th:only-of-type {\n",
       "        vertical-align: middle;\n",
       "    }\n",
       "\n",
       "    .dataframe tbody tr th {\n",
       "        vertical-align: top;\n",
       "    }\n",
       "\n",
       "    .dataframe thead th {\n",
       "        text-align: right;\n",
       "    }\n",
       "</style>\n",
       "<table border=\"1\" class=\"dataframe\">\n",
       "  <thead>\n",
       "    <tr style=\"text-align: right;\">\n",
       "      <th></th>\n",
       "      <th>Access</th>\n",
       "      <th>Duration (sec)</th>\n",
       "    </tr>\n",
       "  </thead>\n",
       "  <tbody>\n",
       "    <tr>\n",
       "      <th>count</th>\n",
       "      <td>3733.0</td>\n",
       "      <td>3733.0</td>\n",
       "    </tr>\n",
       "    <tr>\n",
       "      <th>mean</th>\n",
       "      <td>1867.0</td>\n",
       "      <td>358.0</td>\n",
       "    </tr>\n",
       "    <tr>\n",
       "      <th>std</th>\n",
       "      <td>1078.0</td>\n",
       "      <td>123.0</td>\n",
       "    </tr>\n",
       "    <tr>\n",
       "      <th>min</th>\n",
       "      <td>1.0</td>\n",
       "      <td>3.0</td>\n",
       "    </tr>\n",
       "    <tr>\n",
       "      <th>25%</th>\n",
       "      <td>934.0</td>\n",
       "      <td>283.0</td>\n",
       "    </tr>\n",
       "    <tr>\n",
       "      <th>50%</th>\n",
       "      <td>1867.0</td>\n",
       "      <td>390.0</td>\n",
       "    </tr>\n",
       "    <tr>\n",
       "      <th>75%</th>\n",
       "      <td>2800.0</td>\n",
       "      <td>467.0</td>\n",
       "    </tr>\n",
       "    <tr>\n",
       "      <th>max</th>\n",
       "      <td>3733.0</td>\n",
       "      <td>487.0</td>\n",
       "    </tr>\n",
       "  </tbody>\n",
       "</table>\n",
       "</div>"
      ],
      "text/plain": [
       "       Access  Duration (sec)\n",
       "count  3733.0          3733.0\n",
       "mean   1867.0           358.0\n",
       "std    1078.0           123.0\n",
       "min       1.0             3.0\n",
       "25%     934.0           283.0\n",
       "50%    1867.0           390.0\n",
       "75%    2800.0           467.0\n",
       "max    3733.0           487.0"
      ]
     },
     "execution_count": 26,
     "metadata": {},
     "output_type": "execute_result"
    }
   ],
   "source": [
    "oneYearTrollsat.describe().round()"
   ]
  },
  {
   "cell_type": "code",
   "execution_count": null,
   "metadata": {},
   "outputs": [],
   "source": []
  }
 ],
 "metadata": {
  "kernelspec": {
   "display_name": "Python 2",
   "language": "python",
   "name": "python2"
  },
  "language_info": {
   "codemirror_mode": {
    "name": "ipython",
    "version": 2
   },
   "file_extension": ".py",
   "mimetype": "text/x-python",
   "name": "python",
   "nbconvert_exporter": "python",
   "pygments_lexer": "ipython2",
   "version": "2.7.17"
  }
 },
 "nbformat": 4,
 "nbformat_minor": 4
}
