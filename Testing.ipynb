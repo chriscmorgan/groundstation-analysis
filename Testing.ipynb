{
 "cells": [
  {
   "cell_type": "code",
   "execution_count": 33,
   "metadata": {},
   "outputs": [],
   "source": [
    "import pandas as pd"
   ]
  },
  {
   "cell_type": "code",
   "execution_count": 30,
   "metadata": {},
   "outputs": [
    {
     "data": {
      "text/plain": [
       "datetime.datetime(2022, 6, 1, 1, 19, 53, 434300)"
      ]
     },
     "execution_count": 30,
     "metadata": {},
     "output_type": "execute_result"
    }
   ],
   "source": [
    "testDate = \"1 Jun 2022 01:19:53.4343\"\n",
    "newDate = pd.datetime.strptime(testDate, '%d %b %Y %H:%M:%S.%f')\n",
    "newDate"
   ]
  },
  {
   "cell_type": "code",
   "execution_count": 34,
   "metadata": {},
   "outputs": [],
   "source": [
    "dateparse = lambda x: pd.datetime.strptime(x, '%d %b %Y %H:%M:%S.%f')"
   ]
  },
  {
   "cell_type": "code",
   "execution_count": 61,
   "metadata": {},
   "outputs": [],
   "source": [
    "skyhopperpasses = pd.read_csv(\"skyhopper-access-1-month.csv\", index_col=1, parse_dates=['StartTime', 'StopTime'], date_parser=dateparse)"
   ]
  },
  {
   "cell_type": "code",
   "execution_count": 62,
   "metadata": {},
   "outputs": [
    {
     "name": "stdout",
     "output_type": "stream",
     "text": [
      "<class 'pandas.core.frame.DataFrame'>\n",
      "DatetimeIndex: 451 entries, 2022-06-01 01:19:53.654000 to 2022-06-30 23:41:29.728000\n",
      "Data columns (total 3 columns):\n",
      "Access      451 non-null int64\n",
      "StopTime    451 non-null datetime64[ns]\n",
      "Duration    451 non-null float64\n",
      "dtypes: datetime64[ns](1), float64(1), int64(1)\n",
      "memory usage: 14.1 KB\n"
     ]
    }
   ],
   "source": [
    "skyhopperpasses.info()"
   ]
  },
  {
   "cell_type": "code",
   "execution_count": 68,
   "metadata": {},
   "outputs": [
    {
     "data": {
      "text/plain": [
       "2022-06-01    15\n",
       "2022-06-02    15\n",
       "2022-06-03    15\n",
       "2022-06-04    15\n",
       "2022-06-05    15\n",
       "2022-06-06    15\n",
       "2022-06-07    15\n",
       "2022-06-08    15\n",
       "2022-06-09    15\n",
       "2022-06-10    15\n",
       "2022-06-11    15\n",
       "2022-06-12    15\n",
       "2022-06-13    15\n",
       "2022-06-14    15\n",
       "2022-06-15    15\n",
       "2022-06-16    15\n",
       "2022-06-17    15\n",
       "2022-06-18    15\n",
       "2022-06-19    15\n",
       "2022-06-20    15\n",
       "2022-06-21    15\n",
       "2022-06-22    15\n",
       "2022-06-23    15\n",
       "2022-06-24    15\n",
       "2022-06-25    16\n",
       "2022-06-26    15\n",
       "2022-06-27    15\n",
       "2022-06-28    15\n",
       "2022-06-29    15\n",
       "2022-06-30    15\n",
       "Name: Access, dtype: int64"
      ]
     },
     "execution_count": 68,
     "metadata": {},
     "output_type": "execute_result"
    }
   ],
   "source": [
    "test = skyhopperpasses.groupby(skyhopperpasses.index.date).count()\n",
    "test['Access']"
   ]
  },
  {
   "cell_type": "code",
   "execution_count": 58,
   "metadata": {},
   "outputs": [
    {
     "ename": "AttributeError",
     "evalue": "'numpy.ndarray' object has no attribute 'normalize'",
     "output_type": "error",
     "traceback": [
      "\u001b[0;31m---------------------------------------------------------------------------\u001b[0m",
      "\u001b[0;31mAttributeError\u001b[0m                            Traceback (most recent call last)",
      "\u001b[0;32m<ipython-input-58-0f4b9028a315>\u001b[0m in \u001b[0;36m<module>\u001b[0;34m\u001b[0m\n\u001b[0;32m----> 1\u001b[0;31m \u001b[0mpasses\u001b[0m\u001b[0;34m.\u001b[0m\u001b[0mnormalize\u001b[0m\u001b[0;34m(\u001b[0m\u001b[0;34m)\u001b[0m\u001b[0;34m\u001b[0m\u001b[0;34m\u001b[0m\u001b[0m\n\u001b[0m",
      "\u001b[0;31mAttributeError\u001b[0m: 'numpy.ndarray' object has no attribute 'normalize'"
     ]
    }
   ],
   "source": []
  },
  {
   "cell_type": "code",
   "execution_count": null,
   "metadata": {},
   "outputs": [],
   "source": []
  }
 ],
 "metadata": {
  "kernelspec": {
   "display_name": "Python 3",
   "language": "python",
   "name": "python3"
  },
  "language_info": {
   "codemirror_mode": {
    "name": "ipython",
    "version": 3
   },
   "file_extension": ".py",
   "mimetype": "text/x-python",
   "name": "python",
   "nbconvert_exporter": "python",
   "pygments_lexer": "ipython3",
   "version": "3.7.4"
  }
 },
 "nbformat": 4,
 "nbformat_minor": 4
}
