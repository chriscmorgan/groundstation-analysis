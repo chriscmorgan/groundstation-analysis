{
 "cells": [
  {
   "cell_type": "code",
   "execution_count": 1,
   "metadata": {
    "collapsed": true
   },
   "outputs": [],
   "source": [
    "import pandas as pd"
   ]
  },
  {
   "cell_type": "code",
   "execution_count": 2,
   "metadata": {
    "collapsed": false
   },
   "outputs": [
    {
     "data": {
      "text/plain": [
       "datetime.datetime(2022, 6, 1, 1, 19, 53, 434300)"
      ]
     },
     "execution_count": 2,
     "metadata": {},
     "output_type": "execute_result"
    }
   ],
   "source": [
    "testDate = \"1 Jun 2022 01:19:53.4343\"\n",
    "newDate = pd.datetime.strptime(testDate, '%d %b %Y %H:%M:%S.%f')\n",
    "newDate"
   ]
  },
  {
   "cell_type": "markdown",
   "metadata": {},
   "source": []
  },
  {
   "cell_type": "code",
   "execution_count": 3,
   "metadata": {
    "collapsed": true
   },
   "outputs": [],
   "source": [
    "dateparse = lambda x: pd.datetime.strptime(x, '%d %b %Y %H:%M:%S.%f')"
   ]
  },
  {
   "cell_type": "code",
   "execution_count": 4,
   "metadata": {
    "collapsed": true
   },
   "outputs": [],
   "source": [
    "skyhopperpasses = pd.read_csv(\"data/skyhopper-access-1-month.csv\", index_col=1, parse_dates=['StartTime', 'StopTime'], date_parser=dateparse)"
   ]
  },
  {
   "cell_type": "code",
   "execution_count": 5,
   "metadata": {
    "collapsed": false,
    "scrolled": true
   },
   "outputs": [
    {
     "name": "stdout",
     "output_type": "stream",
     "text": [
      "<class 'pandas.core.frame.DataFrame'>\n",
      "DatetimeIndex: 451 entries, 2022-06-01 01:19:53.654000 to 2022-06-30 23:41:29.728000\n",
      "Data columns (total 3 columns):\n",
      "Access      451 non-null int64\n",
      "StopTime    451 non-null datetime64[ns]\n",
      "Duration    451 non-null float64\n",
      "dtypes: datetime64[ns](1), float64(1), int64(1)\n",
      "memory usage: 14.1 KB\n"
     ]
    }
   ],
   "source": [
    "skyhopperpasses.info()"
   ]
  },
  {
   "cell_type": "code",
   "execution_count": 27,
   "metadata": {
    "collapsed": false,
    "scrolled": true
   },
   "outputs": [
    {
     "data": {
      "text/plain": [
       "2022-06-01    15\n",
       "2022-06-02    15\n",
       "2022-06-03    15\n",
       "2022-06-04    15\n",
       "2022-06-05    15\n",
       "2022-06-06    15\n",
       "2022-06-07    15\n",
       "2022-06-08    15\n",
       "2022-06-09    15\n",
       "2022-06-10    15\n",
       "2022-06-11    15\n",
       "2022-06-12    15\n",
       "2022-06-13    15\n",
       "2022-06-14    15\n",
       "2022-06-15    15\n",
       "2022-06-16    15\n",
       "2022-06-17    15\n",
       "2022-06-18    15\n",
       "2022-06-19    15\n",
       "2022-06-20    15\n",
       "2022-06-21    15\n",
       "2022-06-22    15\n",
       "2022-06-23    15\n",
       "2022-06-24    15\n",
       "2022-06-25    16\n",
       "2022-06-26    15\n",
       "2022-06-27    15\n",
       "2022-06-28    15\n",
       "2022-06-29    15\n",
       "2022-06-30    15\n",
       "Name: Access, dtype: int64"
      ]
     },
     "execution_count": 27,
     "metadata": {},
     "output_type": "execute_result"
    }
   ],
   "source": [
    "count = skyhopperpasses.groupby(skyhopperpasses.index.date).count()\n",
    "count['Access']"
   ]
  },
  {
   "cell_type": "code",
   "execution_count": 26,
   "metadata": {
    "collapsed": false
   },
   "outputs": [
    {
     "data": {
      "text/plain": [
       "2022-06-01    5987.166\n",
       "2022-06-02    5987.166\n",
       "2022-06-03    5987.164\n",
       "2022-06-04    5987.165\n",
       "2022-06-05    5987.159\n",
       "2022-06-06    5987.157\n",
       "2022-06-07    5987.153\n",
       "2022-06-08    5987.155\n",
       "2022-06-09    5987.148\n",
       "2022-06-10    5987.147\n",
       "2022-06-11    5987.150\n",
       "2022-06-12    5987.154\n",
       "2022-06-13    5987.157\n",
       "2022-06-14    5987.157\n",
       "2022-06-15    5987.153\n",
       "2022-06-16    5987.154\n",
       "2022-06-17    5987.147\n",
       "2022-06-18    5987.145\n",
       "2022-06-19    5987.143\n",
       "2022-06-20    5987.143\n",
       "2022-06-21    5987.139\n",
       "2022-06-22    5987.138\n",
       "2022-06-23    5987.141\n",
       "2022-06-24    5987.139\n",
       "2022-06-25    6368.845\n",
       "2022-06-26    5987.030\n",
       "2022-06-27    5987.030\n",
       "2022-06-28    5987.028\n",
       "2022-06-29    5987.032\n",
       "2022-06-30    5987.033\n",
       "Name: Duration, dtype: float64"
      ]
     },
     "execution_count": 26,
     "metadata": {},
     "output_type": "execute_result"
    }
   ],
   "source": [
    "daysum = skyhopperpasses.groupby(skyhopperpasses.index.date).sum()\n",
    "daysum['Duration']"
   ]
  },
  {
   "cell_type": "code",
   "execution_count": 15,
   "metadata": {
    "collapsed": false
   },
   "outputs": [
    {
     "data": {
      "text/html": [
       "<div>\n",
       "<table border=\"1\" class=\"dataframe\">\n",
       "  <thead>\n",
       "    <tr style=\"text-align: right;\">\n",
       "      <th></th>\n",
       "      <th>Access</th>\n",
       "      <th>Duration</th>\n",
       "    </tr>\n",
       "  </thead>\n",
       "  <tbody>\n",
       "    <tr>\n",
       "      <th>count</th>\n",
       "      <td>451.000000</td>\n",
       "      <td>451.000000</td>\n",
       "    </tr>\n",
       "    <tr>\n",
       "      <th>mean</th>\n",
       "      <td>226.000000</td>\n",
       "      <td>399.103410</td>\n",
       "    </tr>\n",
       "    <tr>\n",
       "      <th>std</th>\n",
       "      <td>130.336743</td>\n",
       "      <td>80.353181</td>\n",
       "    </tr>\n",
       "    <tr>\n",
       "      <th>min</th>\n",
       "      <td>1.000000</td>\n",
       "      <td>219.496000</td>\n",
       "    </tr>\n",
       "    <tr>\n",
       "      <th>25%</th>\n",
       "      <td>113.500000</td>\n",
       "      <td>376.684000</td>\n",
       "    </tr>\n",
       "    <tr>\n",
       "      <th>50%</th>\n",
       "      <td>226.000000</td>\n",
       "      <td>417.008000</td>\n",
       "    </tr>\n",
       "    <tr>\n",
       "      <th>75%</th>\n",
       "      <td>338.500000</td>\n",
       "      <td>466.364500</td>\n",
       "    </tr>\n",
       "    <tr>\n",
       "      <th>max</th>\n",
       "      <td>451.000000</td>\n",
       "      <td>488.654000</td>\n",
       "    </tr>\n",
       "  </tbody>\n",
       "</table>\n",
       "</div>"
      ],
      "text/plain": [
       "           Access    Duration\n",
       "count  451.000000  451.000000\n",
       "mean   226.000000  399.103410\n",
       "std    130.336743   80.353181\n",
       "min      1.000000  219.496000\n",
       "25%    113.500000  376.684000\n",
       "50%    226.000000  417.008000\n",
       "75%    338.500000  466.364500\n",
       "max    451.000000  488.654000"
      ]
     },
     "execution_count": 15,
     "metadata": {},
     "output_type": "execute_result"
    }
   ],
   "source": [
    "skyhopperpasses.describe()"
   ]
  },
  {
   "cell_type": "code",
   "execution_count": null,
   "metadata": {
    "collapsed": true
   },
   "outputs": [],
   "source": []
  },
  {
   "cell_type": "code",
   "execution_count": null,
   "metadata": {
    "collapsed": true
   },
   "outputs": [],
   "source": []
  }
 ],
 "metadata": {
  "kernelspec": {
   "display_name": "Python 2",
   "language": "python",
   "name": "python2"
  },
  "language_info": {
   "codemirror_mode": {
    "name": "ipython",
    "version": 2
   },
   "file_extension": ".py",
   "mimetype": "text/x-python",
   "name": "python",
   "nbconvert_exporter": "python",
   "pygments_lexer": "ipython2",
   "version": "2.7.13"
  }
 },
 "nbformat": 4,
 "nbformat_minor": 4
}
