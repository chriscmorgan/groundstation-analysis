{
 "cells": [
  {
   "cell_type": "markdown",
   "metadata": {},
   "source": [
    "# K-SAT Lite Groundstation Analysis"
   ]
  },
  {
   "cell_type": "markdown",
   "metadata": {},
   "source": [
    "## Summary\n",
    "Kongsberg Satellite Services (KSAT) is a commercial ground station operation with ground stations located near both poles as well as a number of lower latitude stations. KSAT offers a service dedicated to smallsat operations, KSAT Lite.\n",
    "\n",
    "KSAT lite station locations:\n",
    "![KSAT Locations](Images/KSAT_locations.PNG)"
   ]
  },
  {
   "cell_type": "markdown",
   "metadata": {},
   "source": [
    "## Frequency Allocation\n",
    "K-Sat is listed to receive between the 2200-2300 MHz and transmit between 2025-2120 MHz ranges which are located in the S-band. The S-band is a designation by the Institute of Electrical and Electronics Engineers (IEEE) for a part of the microwave band of the electromagnetic spectrum covering frequencies from 2000 to 4000 MHz.\n",
    "\n",
    "Within the KSAT S-band ranges, the ITU has allocated frequency bands to ‘fixed’, ‘mobile’, ‘space operation’, ‘earth exploration’, and ‘space research’ services. All following definitions are taken from the ITU regulations.\n",
    "\n",
    "\n",
    "### Fixed\n",
    "A fixed service is defined as ‘a radiocommunication service between specified fixed points.’\n",
    "\n",
    "A fixed satellite service is defined as : ‘A radiocommunication service between earth stations at given positions, when one or more satellites are used; the given position may be a specified fixed point or any fixed point within specified areas; in some cases this service includes satellite-to-satellite links, which may also be operated in the inter-satellite service; the fixed-satellite service may also include feeder links for other space radiocommunication services.’\n",
    "\n",
    "These definitions denote a service with fixed start and end points. By Skyhopper’s nature, it will not remain in a fixed position. Since Skyhopper will act as the origin and destination of information, the Skyhopper network will not qualify as a ‘fixed service’.\n",
    "\n",
    "### Mobile\n",
    "A mobile service is defined as: ‘A radiocommunication service between mobile and land\n",
    "stations, or between mobile stations (CV).’\n",
    "\n",
    "A mobile-satellite service is defined as: ‘A radiocommunication service:\n",
    "Between mobile earth stations and one or more space stations, or between space stations used by this service; or\n",
    "Between mobile earth stations by means of one or more space stations.\n",
    "This service may also include feeder links necessary for its operation.’\n",
    "\n",
    "These definitions denote a service where the ground stations are not in fixed locations. KSAT has two groundstations (Svalsat and Trollsat) which are both fixed. As such the Skyhopper network would not qualify as a ‘mobile service’\n",
    "\n",
    "\n",
    "### Space Operation\n",
    "A space operation service is defined as: ‘A radiocommunication service concerned exclusively with the operation of spacecraft, in particular space tracking, space telemetry and space telecommand.’\n",
    "\n",
    "This is a vague definition that seems very broad. Whilst space tracking, telemetry, and telecommand will be utilised to varying extents by Skyhopper, it is not clear whether the ‘Space Operation’ definition is broad and all encompassing or more focused on space missions of a certain type such as manned missions or missions involving robotic tools etc.\n",
    "\n",
    "Due to the vagueness of this definition, whilst Skyhopper may qualify as a ‘space operation service’, it is recommended that more focus is put on the ‘space research service’ classification.\n",
    "\n",
    "In reality, the distinction between ‘space operation’ and ‘space research’ may be trivial due to some frequencies in the relevant range being shared by the two classifications.\n",
    "\n",
    "### Earth Exploration\n",
    "An Earth exploration-satellite service is defined as: ‘A radiocommunication service between earth stations and one or more space stations, which may include links between space stations, in which:\n",
    "information relating to the characteristics of the Earth and its natural phenomena, including data relating to the state of the environment, is obtained from active sensors or passive sensors on Earth satellites;\n",
    "similar information is collected from airborne or Earth-based platforms;\n",
    "such information may be distributed to earth stations within the system concerned;\n",
    "platform interrogation may be included.\n",
    "This service may also include feeder links necessary for its operation.’\n",
    "\n",
    "Skyhopper will not be observing Earth in any capacity and so the ‘Earth exploration-satellite service’ classification will not be available to Skyhopper.\n",
    "\n",
    "### Space Research\n",
    "To use a Space Research band, the associated network must be a ‘Space Research Service’. This is defined in the ITU regulations as ‘A radiocommunication service in which spacecraft or other objects in space are used for scientific or technological research purposes.’\n",
    "\n",
    "No further guidelines are provided to help determine whether a service is a ‘space research service’. However, due to the purely scientific nature of the payload, and the scientific reputation of the universities involved it is highly likely that Skyhopper will qualify for an allocation as a ‘Space Research’ mission."
   ]
  },
  {
   "cell_type": "markdown",
   "metadata": {},
   "source": [
    "## Pass Analysis"
   ]
  },
  {
   "cell_type": "markdown",
   "metadata": {},
   "source": [
    "## Data Throughput"
   ]
  },
  {
   "cell_type": "markdown",
   "metadata": {},
   "source": [
    "### Link Budget"
   ]
  },
  {
   "cell_type": "code",
   "execution_count": null,
   "metadata": {},
   "outputs": [],
   "source": [
    "#Constants\n",
    "Orbit_Altitude  = 550*10^3 #Meters\n",
    "c = 3*10^8 #Meters/second speed of light\n",
    "Air = 1.64 \n",
    "Atmosphere = 100*10^3 #Meters of atmposhere in earth\n",
    "Radius = 6371*10^3 #Radius of the Earth\n",
    "\n",
    "#Variables\n",
    "Freq = 2.25*10^9 #Frequency in Hz\n",
    "Bandwidth = 100 \n",
    "Minangle = 10 #Degrees\n",
    "Maximum_Distance = -Radius*math.sin(Minangle)+sqrt((Radius*math.sin(Minangle))^2+Orbit_Altitude^2+2*Radius*Orbit_Altitude)\n",
    "print(Maximum_Distance)\n",
    "\n",
    "\n",
    "\n"
   ]
  },
  {
   "cell_type": "markdown",
   "metadata": {},
   "source": [
    "### Signal-to-Noise Ratio"
   ]
  },
  {
   "cell_type": "markdown",
   "metadata": {},
   "source": [
    "### Throughput"
   ]
  },
  {
   "cell_type": "markdown",
   "metadata": {},
   "source": [
    "## Cost"
   ]
  },
  {
   "cell_type": "code",
   "execution_count": null,
   "metadata": {
    "collapsed": true
   },
   "outputs": [],
   "source": []
  }
 ],
 "metadata": {
  "kernelspec": {
   "display_name": "Python 2",
   "language": "python",
   "name": "python2"
  },
  "language_info": {
   "codemirror_mode": {
    "name": "ipython",
    "version": 2
   },
   "file_extension": ".py",
   "mimetype": "text/x-python",
   "name": "python",
   "nbconvert_exporter": "python",
   "pygments_lexer": "ipython2",
   "version": "2.7.13"
  }
 },
 "nbformat": 4,
 "nbformat_minor": 2
}
